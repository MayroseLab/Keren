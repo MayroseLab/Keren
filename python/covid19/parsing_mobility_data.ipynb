{
 "cells": [
  {
   "cell_type": "markdown",
   "metadata": {},
   "source": [
    "# Imports"
   ]
  },
  {
   "cell_type": "code",
   "execution_count": 2,
   "metadata": {},
   "outputs": [],
   "source": [
    "import numpy as np\n",
    "import pandas as pd\n",
    "import matplotlib.pyplot as plt\n",
    "from scipy.optimize import curve_fit\n",
    "from scipy.optimize import basinhopping\n",
    "from scipy.stats import pearsonr\n",
    "from scipy.signal import medfilt"
   ]
  },
  {
   "cell_type": "markdown",
   "metadata": {},
   "source": [
    "# Loading the data"
   ]
  },
  {
   "cell_type": "code",
   "execution_count": 3,
   "metadata": {},
   "outputs": [
    {
     "name": "stderr",
     "output_type": "stream",
     "text": [
      "C:\\Users\\ItayMNB7\\Anaconda3\\lib\\site-packages\\IPython\\core\\interactiveshell.py:3063: DtypeWarning: Columns (3) have mixed types.Specify dtype option on import or set low_memory=False.\n",
      "  interactivity=interactivity, compiler=compiler, result=result)\n"
     ]
    }
   ],
   "source": [
    "df_a = pd.read_csv(\"mobility_data/apple_data/applemobilitytrends-2020-05-10.csv\")\n",
    "df_g = pd.read_csv(\"mobility_data/google_data/google_2020-05-13.csv\")"
   ]
  },
  {
   "cell_type": "code",
   "execution_count": 4,
   "metadata": {},
   "outputs": [
    {
     "data": {
      "text/html": [
       "<div>\n",
       "<style scoped>\n",
       "    .dataframe tbody tr th:only-of-type {\n",
       "        vertical-align: middle;\n",
       "    }\n",
       "\n",
       "    .dataframe tbody tr th {\n",
       "        vertical-align: top;\n",
       "    }\n",
       "\n",
       "    .dataframe thead th {\n",
       "        text-align: right;\n",
       "    }\n",
       "</style>\n",
       "<table border=\"1\" class=\"dataframe\">\n",
       "  <thead>\n",
       "    <tr style=\"text-align: right;\">\n",
       "      <th></th>\n",
       "      <th>geo_type</th>\n",
       "      <th>region</th>\n",
       "      <th>transportation_type</th>\n",
       "      <th>alternative_name</th>\n",
       "      <th>13/01/2020</th>\n",
       "      <th>14/01/2020</th>\n",
       "      <th>15/01/2020</th>\n",
       "      <th>16/01/2020</th>\n",
       "      <th>17/01/2020</th>\n",
       "      <th>18/01/2020</th>\n",
       "      <th>...</th>\n",
       "      <th>01/05/2020</th>\n",
       "      <th>02/05/2020</th>\n",
       "      <th>03/05/2020</th>\n",
       "      <th>04/05/2020</th>\n",
       "      <th>05/05/2020</th>\n",
       "      <th>06/05/2020</th>\n",
       "      <th>07/05/2020</th>\n",
       "      <th>08/05/2020</th>\n",
       "      <th>09/05/2020</th>\n",
       "      <th>10/05/2020</th>\n",
       "    </tr>\n",
       "  </thead>\n",
       "  <tbody>\n",
       "    <tr>\n",
       "      <th>0</th>\n",
       "      <td>country/region</td>\n",
       "      <td>Albania</td>\n",
       "      <td>driving</td>\n",
       "      <td>NaN</td>\n",
       "      <td>100.0</td>\n",
       "      <td>95.30</td>\n",
       "      <td>101.43</td>\n",
       "      <td>97.20</td>\n",
       "      <td>103.55</td>\n",
       "      <td>112.67</td>\n",
       "      <td>...</td>\n",
       "      <td>37.23</td>\n",
       "      <td>29.36</td>\n",
       "      <td>36.00</td>\n",
       "      <td>43.69</td>\n",
       "      <td>42.61</td>\n",
       "      <td>43.11</td>\n",
       "      <td>46.13</td>\n",
       "      <td>45.78</td>\n",
       "      <td>41.59</td>\n",
       "      <td>45.39</td>\n",
       "    </tr>\n",
       "    <tr>\n",
       "      <th>1</th>\n",
       "      <td>country/region</td>\n",
       "      <td>Albania</td>\n",
       "      <td>walking</td>\n",
       "      <td>NaN</td>\n",
       "      <td>100.0</td>\n",
       "      <td>100.68</td>\n",
       "      <td>98.93</td>\n",
       "      <td>98.46</td>\n",
       "      <td>100.85</td>\n",
       "      <td>100.13</td>\n",
       "      <td>...</td>\n",
       "      <td>38.68</td>\n",
       "      <td>32.28</td>\n",
       "      <td>43.41</td>\n",
       "      <td>49.59</td>\n",
       "      <td>46.44</td>\n",
       "      <td>52.84</td>\n",
       "      <td>52.37</td>\n",
       "      <td>48.10</td>\n",
       "      <td>44.86</td>\n",
       "      <td>68.87</td>\n",
       "    </tr>\n",
       "    <tr>\n",
       "      <th>2</th>\n",
       "      <td>country/region</td>\n",
       "      <td>Argentina</td>\n",
       "      <td>driving</td>\n",
       "      <td>NaN</td>\n",
       "      <td>100.0</td>\n",
       "      <td>97.07</td>\n",
       "      <td>102.45</td>\n",
       "      <td>111.21</td>\n",
       "      <td>118.45</td>\n",
       "      <td>124.01</td>\n",
       "      <td>...</td>\n",
       "      <td>22.69</td>\n",
       "      <td>28.23</td>\n",
       "      <td>16.44</td>\n",
       "      <td>32.01</td>\n",
       "      <td>33.63</td>\n",
       "      <td>35.13</td>\n",
       "      <td>35.56</td>\n",
       "      <td>40.25</td>\n",
       "      <td>33.82</td>\n",
       "      <td>19.82</td>\n",
       "    </tr>\n",
       "    <tr>\n",
       "      <th>3</th>\n",
       "      <td>country/region</td>\n",
       "      <td>Argentina</td>\n",
       "      <td>walking</td>\n",
       "      <td>NaN</td>\n",
       "      <td>100.0</td>\n",
       "      <td>95.11</td>\n",
       "      <td>101.37</td>\n",
       "      <td>112.67</td>\n",
       "      <td>116.72</td>\n",
       "      <td>114.14</td>\n",
       "      <td>...</td>\n",
       "      <td>16.62</td>\n",
       "      <td>20.61</td>\n",
       "      <td>12.44</td>\n",
       "      <td>21.35</td>\n",
       "      <td>22.63</td>\n",
       "      <td>23.84</td>\n",
       "      <td>23.84</td>\n",
       "      <td>30.63</td>\n",
       "      <td>24.84</td>\n",
       "      <td>15.58</td>\n",
       "    </tr>\n",
       "    <tr>\n",
       "      <th>4</th>\n",
       "      <td>country/region</td>\n",
       "      <td>Australia</td>\n",
       "      <td>driving</td>\n",
       "      <td>NaN</td>\n",
       "      <td>100.0</td>\n",
       "      <td>102.98</td>\n",
       "      <td>104.21</td>\n",
       "      <td>108.63</td>\n",
       "      <td>109.08</td>\n",
       "      <td>89.00</td>\n",
       "      <td>...</td>\n",
       "      <td>58.40</td>\n",
       "      <td>48.67</td>\n",
       "      <td>58.18</td>\n",
       "      <td>62.51</td>\n",
       "      <td>64.04</td>\n",
       "      <td>66.19</td>\n",
       "      <td>71.34</td>\n",
       "      <td>67.64</td>\n",
       "      <td>50.96</td>\n",
       "      <td>63.56</td>\n",
       "    </tr>\n",
       "  </tbody>\n",
       "</table>\n",
       "<p>5 rows × 123 columns</p>\n",
       "</div>"
      ],
      "text/plain": [
       "         geo_type     region transportation_type alternative_name  13/01/2020  \\\n",
       "0  country/region    Albania             driving              NaN       100.0   \n",
       "1  country/region    Albania             walking              NaN       100.0   \n",
       "2  country/region  Argentina             driving              NaN       100.0   \n",
       "3  country/region  Argentina             walking              NaN       100.0   \n",
       "4  country/region  Australia             driving              NaN       100.0   \n",
       "\n",
       "   14/01/2020  15/01/2020  16/01/2020  17/01/2020  18/01/2020  ...  \\\n",
       "0       95.30      101.43       97.20      103.55      112.67  ...   \n",
       "1      100.68       98.93       98.46      100.85      100.13  ...   \n",
       "2       97.07      102.45      111.21      118.45      124.01  ...   \n",
       "3       95.11      101.37      112.67      116.72      114.14  ...   \n",
       "4      102.98      104.21      108.63      109.08       89.00  ...   \n",
       "\n",
       "   01/05/2020  02/05/2020  03/05/2020  04/05/2020  05/05/2020  06/05/2020  \\\n",
       "0       37.23       29.36       36.00       43.69       42.61       43.11   \n",
       "1       38.68       32.28       43.41       49.59       46.44       52.84   \n",
       "2       22.69       28.23       16.44       32.01       33.63       35.13   \n",
       "3       16.62       20.61       12.44       21.35       22.63       23.84   \n",
       "4       58.40       48.67       58.18       62.51       64.04       66.19   \n",
       "\n",
       "   07/05/2020  08/05/2020  09/05/2020  10/05/2020  \n",
       "0       46.13       45.78       41.59       45.39  \n",
       "1       52.37       48.10       44.86       68.87  \n",
       "2       35.56       40.25       33.82       19.82  \n",
       "3       23.84       30.63       24.84       15.58  \n",
       "4       71.34       67.64       50.96       63.56  \n",
       "\n",
       "[5 rows x 123 columns]"
      ]
     },
     "execution_count": 4,
     "metadata": {},
     "output_type": "execute_result"
    }
   ],
   "source": [
    "df_a.head()"
   ]
  },
  {
   "cell_type": "markdown",
   "metadata": {},
   "source": [
    "# Playing with fitting"
   ]
  },
  {
   "cell_type": "markdown",
   "metadata": {},
   "source": [
    "## Some games"
   ]
  },
  {
   "cell_type": "code",
   "execution_count": 5,
   "metadata": {},
   "outputs": [
    {
     "data": {
      "text/plain": [
       "[<matplotlib.lines.Line2D at 0x27fa0fe9748>]"
      ]
     },
     "execution_count": 5,
     "metadata": {},
     "output_type": "execute_result"
    },
    {
     "data": {
      "image/png": "[encoded data removed]",
      "text/plain": [
       "<Figure size 432x288 with 1 Axes>"
      ]
     },
     "metadata": {
      "needs_background": "light"
     },
     "output_type": "display_data"
    }
   ],
   "source": [
    "plt.plot(df_g[(df_g['country_region'] == 'Israel') & (df_g['country_region'] != np.nan)].grocery_and_pharmacy_percent_change_from_baseline.iloc[:83])"
   ]
  },
  {
   "cell_type": "code",
   "execution_count": 6,
   "metadata": {},
   "outputs": [],
   "source": [
    "#type(df_g[(df_g['country_region'] == 'Israel')].sub_region_1.iloc[])"
   ]
  },
  {
   "cell_type": "code",
   "execution_count": 7,
   "metadata": {
    "scrolled": true
   },
   "outputs": [
    {
     "data": {
      "text/plain": [
       "[<matplotlib.lines.Line2D at 0x27fa10a0f48>]"
      ]
     },
     "execution_count": 7,
     "metadata": {},
     "output_type": "execute_result"
    },
    {
     "data": {
      "image/png": "[encoded data removed]",
      "text/plain": [
       "<Figure size 432x288 with 1 Axes>"
      ]
     },
     "metadata": {
      "needs_background": "light"
     },
     "output_type": "display_data"
    }
   ],
   "source": [
    "date_cols = [x for x in df_a.columns if '2020' in x]\n",
    "df_tmp = df_a[(df_a.region == 'Israel') & (df_a.transportation_type == 'walking')]\n",
    "plt.plot(date_cols,df_tmp[date_cols].values.flatten(),'-')"
   ]
  },
  {
   "cell_type": "markdown",
   "metadata": {},
   "source": [
    "## Playing with Apple data"
   ]
  },
  {
   "cell_type": "code",
   "execution_count": 171,
   "metadata": {},
   "outputs": [
    {
     "name": "stdout",
     "output_type": "stream",
     "text": [
      "[114.41, 60, -3, 36.73] [44.95172489 56.59705106 -0.96454091 67.70964607]\n",
      "(0.8185055597127311, 6.150750252693574e-30)\n",
      "[[ 9.04173301e+00 -2.66629063e-02  4.51225488e-01 -4.32821639e+00]\n",
      " [-2.66629063e-02  8.06481258e-01 -1.33486085e-03 -2.91851656e-01]\n",
      " [ 4.51225488e-01 -1.33486085e-03  5.35333963e-01 -2.15997009e-01]\n",
      " [-4.32821639e+00 -2.91851656e-01 -2.15997009e-01  4.27311807e+00]]\n"
     ]
    },
    {
     "data": {
      "text/plain": [
       "[<matplotlib.lines.Line2D at 0x27facc89708>]"
      ]
     },
     "execution_count": 171,
     "metadata": {},
     "output_type": "execute_result"
    },
    {
     "data": {
      "image/png": "[encoded data removed]",
      "text/plain": [
       "<Figure size 432x288 with 1 Axes>"
      ]
     },
     "metadata": {
      "needs_background": "light"
     },
     "output_type": "display_data"
    }
   ],
   "source": [
    "def sigmoid(x, L ,x0, k, b):\n",
    "    y = L / (1 + np.exp(-k*(x-x0))) + b\n",
    "    return y\n",
    "\n",
    "\n",
    "country = 'Norway'\n",
    "transport_type = 'walking'\n",
    "\n",
    "date_cols = [x for x in df_a.columns if '2020' in x]\n",
    "df_tmp = df_a[(df_a.region == country) & (df_a.transportation_type == transport_type)]\n",
    "xdata = np.arange(len(date_cols))\n",
    "ydata = df_tmp[date_cols].values.flatten()\n",
    "# L_0 = max(ydata)-min(ydata)\n",
    "# x0_0 = np.argwhere(ydata < (100-min(ydata))/2)[0][0]\n",
    "# k_0 = - 4 / (np.argwhere(ydata == min(ydata))[0][0] - np.argwhere(ydata == max(ydata)))[0][0]\n",
    "# b_0 = - (min(ydata))\n",
    "L_0 = (max(ydata) - min(ydata))\n",
    "x0_0 = np.argwhere(ydata < (100 + min(ydata))/2)[0][0]\n",
    "k_0 =  -3 # because sigmoid(x,k) = 0.95 when kx = -3 ??\n",
    "b_0 = (min(ydata))\n",
    "x1_0 = len(date_cols) - 30 # assumes sigmoid ends at the end of the data (i.e., quarantine wasn't over as soon as it reached maximal capacity)\n",
    "a_0 = 1\n",
    "p0 = [L_0, x0_0, k_0,b_0] # this is an mandatory initial guess\n",
    "popt, pcov = curve_fit(sigmoid, xdata, ydata,p0, method='dogbox', maxfev=10000)\n",
    "print(p0,popt)\n",
    "print(pearsonr(ydata,sigmoid(xdata,popt[0],popt[1],popt[2],popt[3])))\n",
    "print(pcov)\n",
    "plt.figure()\n",
    "plt.plot(xdata,ydata,'b')\n",
    "plt.plot(xdata,sigmoid(xdata,popt[0],popt[1],popt[2],popt[3]),'r')\n",
    "plt.plot([popt[1]+2/popt[2]]*200, range(0,200), 'g')\n",
    "plt.plot([popt[1]-2/popt[2]]*200, range(0,200), 'y')\n",
    "plt.plot([popt[1]]*200, range(0,200), 'p')"
   ]
  },
  {
   "cell_type": "code",
   "execution_count": 178,
   "metadata": {
    "scrolled": true
   },
   "outputs": [
    {
     "name": "stderr",
     "output_type": "stream",
     "text": [
      "C:\\Users\\ItayMNB7\\Anaconda3\\lib\\site-packages\\ipykernel_launcher.py:18: SettingWithCopyWarning: \n",
      "A value is trying to be set on a copy of a slice from a DataFrame\n",
      "\n",
      "See the caveats in the documentation: https://pandas.pydata.org/pandas-docs/stable/user_guide/indexing.html#returning-a-view-versus-a-copy\n"
     ]
    },
    {
     "name": "stdout",
     "output_type": "stream",
     "text": [
      "[97.75999999999999, 62, -3, 35.34, 89, 1] [58.75591947 63.28375238 -0.50231328 47.16073834 97.00000359  0.84726317]\n",
      "(0.9552728832905883, 9.560311159121379e-64)\n",
      "[[ 4.08611348e+00  1.42706069e-01  8.12473181e-02 -2.74502515e+00\n",
      "  -3.23986424e+00  6.26052650e-10]\n",
      " [ 1.42706069e-01  2.89223274e-01  2.83752274e-03 -2.66284765e-01\n",
      "  -3.14287391e-01  6.03297244e-11]\n",
      " [ 8.12473181e-02  2.83752274e-03  1.39348831e-02 -5.45814091e-02\n",
      "  -6.44193930e-02  1.24479457e-11]\n",
      " [-2.74502515e+00 -2.66284765e-01 -5.45814091e-02  2.68236208e+00\n",
      "   3.16590748e+00 -8.38058764e-10]\n",
      " [-3.23986424e+00 -3.14287391e-01 -6.44193930e-02  3.16590748e+00\n",
      "   2.43132602e+01  1.21631386e+00]\n",
      " [ 6.26052641e-10  6.03297241e-11  1.24479460e-11 -8.38058767e-10\n",
      "   1.21631386e+00  9.36852997e-02]]\n",
      "Ukraine\n",
      "(0.9552728832905883, 9.560311159121379e-64)\n",
      "~Begining to enter quarentine: 61.29296290199744\n",
      "~Begining of full quarentine: 65.27454186561461\n",
      "How of fast entered to the quarentine: 3.981578963617168\n",
      "Strength of quarentine: 0.5547372876502054\n",
      "Length of full quarentine: 31.725461720678638\n",
      "Day started to quit quarentine: 97.00000358629325\n",
      "How fast is quiting the quarentine: 0.7999338261359598\n"
     ]
    },
    {
     "data": {
      "image/png": "[encoded data removed]",
      "text/plain": [
       "<Figure size 1440x864 with 1 Axes>"
      ]
     },
     "metadata": {
      "needs_background": "light"
     },
     "output_type": "display_data"
    }
   ],
   "source": [
    "def sigmoid_plus(x, L ,x0, k, b, x1, a):\n",
    "    if (x0<0) or (L<0) or (k>0):\n",
    "        return x*0\n",
    "    y1 = L / (1 + np.exp(-k*(x-x0))) + b\n",
    "    if (int(x1)+1) < len(x) and (x1>x0):\n",
    "        y2 = a*x - a*x1 + y1[int(x1)]\n",
    "    y = y1\n",
    "    if (int(x1)+1) < len(x) and (x1>x0):\n",
    "        y[(int(x1)+1):] = y2[(int(x1)+1):] # y2[(int(x1)+1):]\n",
    "    return y\n",
    "\n",
    "\n",
    "country = 'Ukraine'\n",
    "transport_type = 'walking'\n",
    "\n",
    "date_cols = [x for x in df_a.columns if '2020' in x]\n",
    "df_tmp = df_a[(df_a.region == country) & (df_a.transportation_type == transport_type)]\n",
    "df_tmp.dropna(axis=1,inplace=True)\n",
    "xdata = np.arange(len(date_cols))\n",
    "ydata = df_tmp[date_cols].values.flatten()\n",
    "# # Gil SP\n",
    "# L_0 = (max(ydata)-min(ydata))#-30 #-60\n",
    "# x0_0 = np.argwhere(ydata < (100+min(ydata))/2)[0][0]\n",
    "# x1_0 = len(date_cols) #- 30#x0_0 + np.argwhere(ydata_tmp < (100+min(ydata_tmp))/2)[0][0]\n",
    "# a_0 = 1\n",
    "# #k_0 = -2 #-2\n",
    "# b_0 = (min(ydata))\n",
    "# My SP\n",
    "L_0 = (max(ydata) - min(ydata))\n",
    "x0_0 = np.argwhere(ydata < (100 + min(ydata))/2)[0][0]\n",
    "k_0 =  -3 # because sigmoid(x,k) = 0.95 when kx = -3 ??\n",
    "b_0 = (min(ydata))\n",
    "x1_0 = len(date_cols) - 30 # assumes sigmoid ends at the end of the data (i.e., quarantine wasn't over as soon as it reached maximal capacity)\n",
    "a_0 = 1\n",
    "p0 = [L_0, x0_0, k_0,b_0,x1_0, a_0] # this is an mandatory initial guess\n",
    "popt, pcov = curve_fit(sigmoid_plus, xdata, ydata,p0, method='dogbox', maxfev=10000)\n",
    "print(p0,popt)\n",
    "print(pearsonr(ydata,sigmoid_plus(xdata,popt[0],popt[1],popt[2],popt[3],popt[4],popt[5])))\n",
    "print(pcov)\n",
    "plt.figure(figsize=(20,12))\n",
    "plt.plot(xdata,ydata,'b')\n",
    "plt.ylim([0,200])\n",
    "plt.plot(xdata,sigmoid_plus(xdata,popt[0],popt[1],popt[2],popt[3],popt[4],popt[5]),'r')\n",
    "print(country)\n",
    "print(pearsonr(ydata,sigmoid_plus(xdata,popt[0],popt[1],popt[2],popt[3],popt[4],popt[5])))\n",
    "print(f\"~Begining to enter quarentine: {popt[1]+1/popt[2]}\")\n",
    "print(f\"~Begining of full quarentine: {popt[1]-1/popt[2]}\")\n",
    "print(f\"How of fast entered to the quarentine: {-2/popt[2]}\")\n",
    "print(f\"Strength of quarentine: {popt[0]/(popt[3]+popt[0])}\")\n",
    "print(f\"Length of full quarentine: {popt[4] - (popt[1]-1/popt[2])}\")\n",
    "print(f\"Day started to quit quarentine: {popt[4]}\")\n",
    "print(f\"How fast is quiting the quarentine: {(popt[5]/(popt[3]+popt[0]))*100}\")"
   ]
  },
  {
   "cell_type": "code",
   "execution_count": 43,
   "metadata": {},
   "outputs": [],
   "source": [
    "# L_0_init = (max(ydata)-min(ydata))\n",
    "# L_0_vec = [x+L_0_init for x in [-60,-40,-20,0,20,40,60]]\n",
    "# for L_0 in L_0_vec:\n",
    "#     p0[0] = L_0\n",
    "#     try:\n",
    "#         popt, pcov = curve_fit(sigmoid_plus, xdata, ydata,p0, method='dogbox', maxfev=10000)\n",
    "#         print(pearsonr(ydata,sigmoid_plus(xdata,popt[0],popt[1],popt[2],popt[3],popt[4],popt[5])))\n",
    "#     except:\n",
    "#         print('Failed')"
   ]
  },
  {
   "cell_type": "code",
   "execution_count": null,
   "metadata": {},
   "outputs": [],
   "source": []
  },
  {
   "cell_type": "code",
   "execution_count": null,
   "metadata": {},
   "outputs": [],
   "source": []
  },
  {
   "cell_type": "code",
   "execution_count": 44,
   "metadata": {},
   "outputs": [],
   "source": [
    "# minimizer_kwargs = {\"method\": \"BFGS\"}\n",
    "# ret = basinhopping(sigmoid_plus, [xdata]+p0, minimizer_kwargs=minimizer_kwargs, niter=200)\n"
   ]
  },
  {
   "cell_type": "code",
   "execution_count": 45,
   "metadata": {},
   "outputs": [
    {
     "data": {
      "text/plain": [
       "array([  0,   1,   2,   3,   4,   5,   6,   7,   8,   9,  10,  11,  12,\n",
       "        13,  14,  15,  16,  17,  18,  19,  20,  21,  22,  23,  24,  25,\n",
       "        26,  27,  28,  29,  30,  31,  32,  33,  34,  35,  36,  37,  38,\n",
       "        39,  40,  41,  42,  43,  44,  45,  46,  47,  48,  49,  50,  51,\n",
       "        52,  53,  54,  55,  56,  57,  58,  59,  60,  61,  62,  63,  64,\n",
       "        65,  66,  67,  68,  69,  70,  71,  72,  73,  74,  75,  76,  77,\n",
       "        78,  79,  80,  81,  82,  83,  84,  85,  86,  87,  88,  89,  90,\n",
       "        91,  92,  93,  94,  95,  96,  97,  98,  99, 100, 101, 102, 103,\n",
       "       104, 105, 106, 107, 108, 109, 110, 111, 112, 113, 114, 115, 116,\n",
       "       117, 118])"
      ]
     },
     "execution_count": 45,
     "metadata": {},
     "output_type": "execute_result"
    }
   ],
   "source": [
    "xdata"
   ]
  },
  {
   "cell_type": "code",
   "execution_count": 46,
   "metadata": {},
   "outputs": [
    {
     "data": {
      "text/plain": [
       "'13/01/2020'"
      ]
     },
     "execution_count": 46,
     "metadata": {},
     "output_type": "execute_result"
    }
   ],
   "source": [
    "date_cols[0]"
   ]
  },
  {
   "cell_type": "code",
   "execution_count": 47,
   "metadata": {},
   "outputs": [
    {
     "data": {
      "text/plain": [
       "119"
      ]
     },
     "execution_count": 47,
     "metadata": {},
     "output_type": "execute_result"
    }
   ],
   "source": [
    "x1_0"
   ]
  },
  {
   "cell_type": "code",
   "execution_count": 48,
   "metadata": {},
   "outputs": [
    {
     "data": {
      "text/plain": [
       "[<matplotlib.lines.Line2D at 0x27fa173e308>]"
      ]
     },
     "execution_count": 48,
     "metadata": {},
     "output_type": "execute_result"
    },
    {
     "data": {
      "image/png": "[encoded data removed]",
      "text/plain": [
       "<Figure size 432x288 with 1 Axes>"
      ]
     },
     "metadata": {
      "needs_background": "light"
     },
     "output_type": "display_data"
    }
   ],
   "source": [
    "ydata_tmp = ydata[::-1]\n",
    "\n",
    "plt.figure()\n",
    "plt.plot(xdata,medfilt(ydata_tmp,9),'b')"
   ]
  },
  {
   "cell_type": "code",
   "execution_count": 147,
   "metadata": {
    "scrolled": true
   },
   "outputs": [
    {
     "data": {
      "text/plain": [
       "[<matplotlib.lines.Line2D at 0x27fa53efc88>]"
      ]
     },
     "execution_count": 147,
     "metadata": {},
     "output_type": "execute_result"
    },
    {
     "data": {
      "image/png": "[encoded data removed]",
      "text/plain": [
       "<Figure size 432x288 with 1 Axes>"
      ]
     },
     "metadata": {
      "needs_background": "light"
     },
     "output_type": "display_data"
    }
   ],
   "source": [
    "def sigmoid_plus(x, L ,x0, k, b, x1, a):\n",
    "    if (x0<0) or (L<0) or (k>0):\n",
    "        return x*0\n",
    "    y1 = L / (1 + np.exp(-k*(x-x0))) + b\n",
    "    y2 = a*x - a*x1 #+ y1[x1]\n",
    "    y = y1\n",
    "    if (int(x1)+1) < len(x) and (x1>x0):\n",
    "        y[(int(x1)+1):] = y[(int(x1)+1):] + y2[(int(x1)+1):] # y2[(int(x1)+1):]\n",
    "    return y\n",
    "\n",
    "\n",
    "country = 'Israel'\n",
    "transport_type = 'walking'\n",
    "\n",
    "date_cols = [x for x in df_a.columns if '2020' in x]\n",
    "df_tmp = df_a[(df_a.region == country) & (df_a.transportation_type == transport_type)]\n",
    "xdata = np.arange(len(date_cols))\n",
    "ydata = df_tmp[date_cols].values.flatten()\n",
    "L_0 = (max(ydata)-min(ydata))# -30 #-60\n",
    "x0_0 = np.argwhere(ydata < (100+min(ydata))/2)[0][0]\n",
    "x1_0 = len(date_cols) - 30 #x0_0 + np.argwhere(ydata_tmp < (100+min(ydata_tmp))/2)[0][0]\n",
    "a_0 = 1\n",
    "k_0 =  - 2 / (np.argwhere(ydata == min(ydata))[0][0] - np.argwhere(ydata == max(ydata)))[0][0] #-2\n",
    "b_0 = (min(ydata))\n",
    "p0 = [L_0, x0_0, k_0,b_0,x1_0, a_0] # this is an mandatory initial guess\n",
    "plt.figure()\n",
    "plt.plot(xdata,ydata,'b')\n",
    "plt.plot(xdata,sigmoid_plus(xdata,p0[0],p0[1],p0[2],p0[3],p0[4],p0[5]),'r')\n"
   ]
  },
  {
   "cell_type": "code",
   "execution_count": null,
   "metadata": {},
   "outputs": [],
   "source": [
    "    "
   ]
  },
  {
   "cell_type": "markdown",
   "metadata": {},
   "source": [
    "# Getting features from the apple data"
   ]
  },
  {
   "cell_type": "markdown",
   "metadata": {},
   "source": [
    "## Helper functions"
   ]
  },
  {
   "cell_type": "code",
   "execution_count": 159,
   "metadata": {},
   "outputs": [],
   "source": [
    "# def sigmoid_plus(x, L ,x0, k, b, x1, a):\n",
    "#     if (x0<0) or (L<0) or (k>0) or (x1<(x0-1/k)):\n",
    "#         return x*0\n",
    "#     y1 = L / (1 + np.exp(-k*(x-x0))) + b\n",
    "#     y2 = a*x - a*x1\n",
    "#     y = y1\n",
    "#     if (int(x1)+1) < len(x) and (x1>(x0-1/k)):\n",
    "#         y[(int(x1)+1):] = y[(int(x1)+1):] + y2[(int(x1)+1):]\n",
    "#     return y\n",
    "\n",
    "# def sigmoid_plus(x, L ,x0, k, b, x1, a):\n",
    "#     if (x0<0) or (L<0) or (k>0):\n",
    "#         return x*0\n",
    "#     y1 = L / (1 + np.exp(-k*(x-x0))) + b\n",
    "#     y2 = a*x - a*x1 + y1[int(x1)]\n",
    "#     y = y1\n",
    "#     if (int(x1)+1) < len(x) and (x1>x0):\n",
    "#         y[(int(x1)+1):] = y2[(int(x1)+1):] # y2[(int(x1)+1):]\n",
    "#     return y\n",
    "\n",
    "def sigmoid_plus(x, L ,x0, k, b, x1, a):\n",
    "    if (x0<0) or (L<0) or (k>0):\n",
    "        return x*0\n",
    "    y1 = L / (1 + np.exp(-k*(x-x0))) + b\n",
    "    if (int(x1)+1) < len(x) and (x1>x0):\n",
    "        y2 = a*x - a*x1 + y1[int(x1)]\n",
    "    y = y1\n",
    "    if (int(x1)+1) < len(x) and (x1>x0):\n",
    "        y[(int(x1)+1):] = y2[(int(x1)+1):] # y2[(int(x1)+1):]\n",
    "    return y\n"
   ]
  },
  {
   "cell_type": "code",
   "execution_count": 160,
   "metadata": {},
   "outputs": [],
   "source": [
    "def fit_to_sigplus(df,country,transport_type):\n",
    "    date_cols = [x for x in df.columns if '/2020' in x]\n",
    "    df_tmp = df[(df.region == country) & (df.transportation_type == transport_type)]\n",
    "    xdata = np.arange(len(date_cols))\n",
    "    ydata = df_tmp[date_cols].values.flatten()\n",
    "#     L_0 = (max(ydata)-min(ydata))-30\n",
    "#     x0_0 = np.argwhere(ydata < (100+min(ydata))/2)[0][0]\n",
    "#     ydata_tmp = ydata[::-1]\n",
    "#     x1_0 = len(date_cols) - 30#x0_0 + np.argwhere(ydata_tmp < (100+min(ydata_tmp))/2)[0][0]\n",
    "#     a_0 = 1\n",
    "#     k_0 = -2\n",
    "#     b_0 = (min(ydata))\n",
    "    L_0 = (max(ydata) - min(ydata))\n",
    "    x0_0 = np.argwhere(ydata < (100 + min(ydata))/2)[0][0]\n",
    "    k_0 =  -3 # because sigmoid(x,k) = 0.95 when kx = -3 ??\n",
    "    b_0 = (min(ydata))\n",
    "    x1_0 = len(date_cols) - 30 # assumes sigmoid ends at the end of the data (i.e., quarantine wasn't over as soon as it reached maximal capacity)\n",
    "    a_0 = 1\n",
    "    p0 = [L_0, x0_0, k_0,b_0,x1_0, a_0] # this is an mandatory initial guess\n",
    "    popt, pcov = curve_fit(sigmoid_plus, xdata, ydata,p0, method='lm', maxfev=10000)\n",
    "    pear_r,p_val = pearsonr(ydata,sigmoid_plus(xdata,popt[0],popt[1],popt[2],popt[3],popt[4],popt[5]))\n",
    "    return popt, pcov, pear_r,p_val"
   ]
  },
  {
   "cell_type": "code",
   "execution_count": 161,
   "metadata": {},
   "outputs": [],
   "source": [
    "def metrics_from_fit(popt,pear_r,prefix='',suffix=''):\n",
    "    dict_out = {'t_beg_quar':(popt[1]+1/popt[2]),'t_full_quar':(popt[1]-1/popt[2]),\n",
    "               't_eff_quar':(popt[1]),'t_to_quar':(-2/popt[2]),'strength_quar':(popt[0]/(popt[3]+popt[0])),\n",
    "               't_len_quar':(popt[4] - (popt[1]-1/popt[2])),'t_start_out':popt[4],\n",
    "               'slope_out':((popt[5]/(popt[3]+popt[0]))*100),'fit_pear_r':pear_r}\n",
    "    dict_out = {(prefix+key+suffix):dict_out[key] for key in dict_out.keys()}\n",
    "    return dict_out"
   ]
  },
  {
   "cell_type": "code",
   "execution_count": 120,
   "metadata": {},
   "outputs": [
    {
     "ename": "NameError",
     "evalue": "name 'pear_r' is not defined",
     "output_type": "error",
     "traceback": [
      "\u001b[1;31m---------------------------------------------------------------------------\u001b[0m",
      "\u001b[1;31mNameError\u001b[0m                                 Traceback (most recent call last)",
      "\u001b[1;32m<ipython-input-120-4cd896d921ca>\u001b[0m in \u001b[0;36m<module>\u001b[1;34m\u001b[0m\n\u001b[1;32m----> 1\u001b[1;33m \u001b[0mmetrics_from_fit\u001b[0m\u001b[1;33m(\u001b[0m\u001b[0mpopt\u001b[0m\u001b[1;33m,\u001b[0m\u001b[0mpear_r\u001b[0m\u001b[1;33m)\u001b[0m\u001b[1;33m\u001b[0m\u001b[1;33m\u001b[0m\u001b[0m\n\u001b[0m",
      "\u001b[1;31mNameError\u001b[0m: name 'pear_r' is not defined"
     ]
    }
   ],
   "source": [
    "metrics_from_fit(popt,pear_r)"
   ]
  },
  {
   "cell_type": "code",
   "execution_count": null,
   "metadata": {},
   "outputs": [],
   "source": [
    "prefix='a_'\n",
    "suffix='_b'\n",
    "dict_out = {(prefix+key+suffix):dict_out[key] for key in dict_out.keys()}\n",
    "dict_out"
   ]
  },
  {
   "cell_type": "code",
   "execution_count": null,
   "metadata": {},
   "outputs": [],
   "source": [
    "df_a.columns"
   ]
  },
  {
   "cell_type": "code",
   "execution_count": null,
   "metadata": {},
   "outputs": [],
   "source": [
    "df_a.geo_type"
   ]
  },
  {
   "cell_type": "markdown",
   "metadata": {},
   "source": [
    "## Fitting Apple Data"
   ]
  },
  {
   "cell_type": "code",
   "execution_count": 36,
   "metadata": {},
   "outputs": [],
   "source": [
    "res_dic_zero = {'country' : np.nan,\n",
    " 'a_walking_t_beg_quar': np.nan,\n",
    " 'a_walking_t_full_quar': np.nan,\n",
    " 'a_walking_t_eff_quar': np.nan,\n",
    " 'a_walking_t_to_quar': np.nan,\n",
    " 'a_walking_strength_quar': np.nan,\n",
    " 'a_walking_t_len_quar': np.nan,\n",
    " 'a_walking_t_start_out': np.nan,\n",
    " 'a_walking_slope_out': np.nan,\n",
    " 'a_walking_fit_pear_r': np.nan,\n",
    " 'a_driving_t_beg_quar': np.nan,\n",
    " 'a_driving_t_full_quar': np.nan,\n",
    " 'a_driving_t_eff_quar': np.nan,\n",
    " 'a_driving_t_to_quar': np.nan,\n",
    " 'a_driving_strength_quar': np.nan,\n",
    " 'a_driving_t_len_quar': np.nan,\n",
    " 'a_driving_t_start_out': np.nan,\n",
    " 'a_driving_slope_out': np.nan,\n",
    " 'a_driving_fit_pear_r': np.nan,\n",
    " 'a_transit_t_beg_quar': np.nan,\n",
    " 'a_transit_t_full_quar': np.nan,\n",
    " 'a_transit_t_eff_quar': np.nan,\n",
    " 'a_transit_t_to_quar': np.nan,\n",
    " 'a_transit_strength_quar': np.nan,\n",
    " 'a_transit_t_len_quar': np.nan,\n",
    " 'a_transit_t_start_out': np.nan,\n",
    " 'a_transit_slope_out': np.nan,\n",
    " 'a_transit_fit_pear_r': np.nan}\n",
    "metrics_dict_full_zero = {}\n",
    "for key in res_dic_zero.keys():\n",
    "    metrics_dict_full_zero[key] = []\n",
    "    res_dic_zero[key] = 'NaN'"
   ]
  },
  {
   "cell_type": "code",
   "execution_count": 37,
   "metadata": {},
   "outputs": [
    {
     "data": {
      "text/plain": [
       "True"
      ]
     },
     "execution_count": 37,
     "metadata": {},
     "output_type": "execute_result"
    }
   ],
   "source": [
    "metrics_dict_full_zero[key] == []"
   ]
  },
  {
   "cell_type": "code",
   "execution_count": 38,
   "metadata": {},
   "outputs": [
    {
     "name": "stdout",
     "output_type": "stream",
     "text": [
      "Albania, Argentina, Australia, Austria, Belgium, Brazil, Bulgaria, Cambodia, Canada, Chile, Colombia, Croatia, Czech Republic, Denmark, Egypt, Estonia, Finland, France, Germany, Greece, Hong Kong, Hungary, Iceland, India, Indonesia, Ireland, Israel, Italy, Japan, Latvia, Lithuania, Luxembourg, Macao, Malaysia, Mexico, Morocco, Netherlands, New Zealand, Norway, Philippines, Poland, Portugal, Republic of Korea, Romania, Russia, Saudi Arabia, Serbia, Singapore, Slovakia, Slovenia, South Africa, Spain, Sweden, Switzerland, Taiwan, Thailand, Turkey, UK, Ukraine, United Arab Emirates, United States, Uruguay, Vietnam, "
     ]
    }
   ],
   "source": [
    "df_tmp = df_a[df_a.geo_type == 'country/region']\n",
    "metrics_dict_full = metrics_dict_full_zero.copy()\n",
    "for country in df_tmp.region.unique():\n",
    "    print(country,end=\", \")\n",
    "    metrics_dict = res_dic_zero.copy()\n",
    "    metrics_dict['country'] = country\n",
    "    for transport_type in ['walking','driving','transit']:\n",
    "        try:\n",
    "            popt, pcov, pear_r, p_val = fit_to_sigplus(df=df_a,country=country,transport_type=transport_type)\n",
    "            metrics_dict.update(metrics_from_fit(popt,pear_r,prefix='a_'+transport_type+'_',suffix=''))\n",
    "        except:\n",
    "            pass\n",
    "    for key in metrics_dict.keys():\n",
    "#         print(metrics_dict_full[key]==[])\n",
    "        if metrics_dict_full[key] == []:\n",
    "#             print('in if')\n",
    "#             print([metrics_dict[key]])\n",
    "#             print(metrics_dict_full[key])\n",
    "            metrics_dict_full[key] = [metrics_dict[key]]\n",
    "#             print([metrics_dict[key]])\n",
    "#             print(metrics_dict_full[key])\n",
    "        else:\n",
    "#             print('in else')\n",
    "#             print([metrics_dict[key]])\n",
    "#             print(metrics_dict_full[key])\n",
    "            metrics_dict_full[key] = metrics_dict_full[key] + [metrics_dict[key]]\n",
    "#             print([metrics_dict[key]])\n",
    "#             print(metrics_dict_full[key])\n",
    "df_a_out = pd.DataFrame(metrics_dict_full)"
   ]
  },
  {
   "cell_type": "code",
   "execution_count": 39,
   "metadata": {},
   "outputs": [
    {
     "data": {
      "text/html": [
       "<div>\n",
       "<style scoped>\n",
       "    .dataframe tbody tr th:only-of-type {\n",
       "        vertical-align: middle;\n",
       "    }\n",
       "\n",
       "    .dataframe tbody tr th {\n",
       "        vertical-align: top;\n",
       "    }\n",
       "\n",
       "    .dataframe thead th {\n",
       "        text-align: right;\n",
       "    }\n",
       "</style>\n",
       "<table border=\"1\" class=\"dataframe\">\n",
       "  <thead>\n",
       "    <tr style=\"text-align: right;\">\n",
       "      <th></th>\n",
       "      <th>country</th>\n",
       "      <th>a_walking_fit_pear_r</th>\n",
       "    </tr>\n",
       "  </thead>\n",
       "  <tbody>\n",
       "    <tr>\n",
       "      <th>0</th>\n",
       "      <td>Albania</td>\n",
       "      <td>NaN</td>\n",
       "    </tr>\n",
       "    <tr>\n",
       "      <th>33</th>\n",
       "      <td>Malaysia</td>\n",
       "      <td>NaN</td>\n",
       "    </tr>\n",
       "    <tr>\n",
       "      <th>34</th>\n",
       "      <td>Mexico</td>\n",
       "      <td>NaN</td>\n",
       "    </tr>\n",
       "    <tr>\n",
       "      <th>35</th>\n",
       "      <td>Morocco</td>\n",
       "      <td>NaN</td>\n",
       "    </tr>\n",
       "    <tr>\n",
       "      <th>36</th>\n",
       "      <td>Netherlands</td>\n",
       "      <td>NaN</td>\n",
       "    </tr>\n",
       "    <tr>\n",
       "      <th>...</th>\n",
       "      <td>...</td>\n",
       "      <td>...</td>\n",
       "    </tr>\n",
       "    <tr>\n",
       "      <th>26</th>\n",
       "      <td>Israel</td>\n",
       "      <td>NaN</td>\n",
       "    </tr>\n",
       "    <tr>\n",
       "      <th>27</th>\n",
       "      <td>Italy</td>\n",
       "      <td>NaN</td>\n",
       "    </tr>\n",
       "    <tr>\n",
       "      <th>28</th>\n",
       "      <td>Japan</td>\n",
       "      <td>NaN</td>\n",
       "    </tr>\n",
       "    <tr>\n",
       "      <th>15</th>\n",
       "      <td>Estonia</td>\n",
       "      <td>NaN</td>\n",
       "    </tr>\n",
       "    <tr>\n",
       "      <th>62</th>\n",
       "      <td>Vietnam</td>\n",
       "      <td>NaN</td>\n",
       "    </tr>\n",
       "  </tbody>\n",
       "</table>\n",
       "<p>63 rows × 2 columns</p>\n",
       "</div>"
      ],
      "text/plain": [
       "        country a_walking_fit_pear_r\n",
       "0       Albania                  NaN\n",
       "33     Malaysia                  NaN\n",
       "34       Mexico                  NaN\n",
       "35      Morocco                  NaN\n",
       "36  Netherlands                  NaN\n",
       "..          ...                  ...\n",
       "26       Israel                  NaN\n",
       "27        Italy                  NaN\n",
       "28        Japan                  NaN\n",
       "15      Estonia                  NaN\n",
       "62      Vietnam                  NaN\n",
       "\n",
       "[63 rows x 2 columns]"
      ]
     },
     "execution_count": 39,
     "metadata": {},
     "output_type": "execute_result"
    }
   ],
   "source": [
    "df_a_out[['country','a_walking_fit_pear_r']].sort_values(by='a_walking_fit_pear_r')"
   ]
  },
  {
   "cell_type": "code",
   "execution_count": 32,
   "metadata": {},
   "outputs": [
    {
     "ename": "NameError",
     "evalue": "name 'df_a_out' is not defined",
     "output_type": "error",
     "traceback": [
      "\u001b[1;31m---------------------------------------------------------------------------\u001b[0m",
      "\u001b[1;31mNameError\u001b[0m                                 Traceback (most recent call last)",
      "\u001b[1;32m<ipython-input-32-183c63c4442b>\u001b[0m in \u001b[0;36m<module>\u001b[1;34m\u001b[0m\n\u001b[1;32m----> 1\u001b[1;33m \u001b[0mdf_a_out\u001b[0m\u001b[1;33m\u001b[0m\u001b[1;33m\u001b[0m\u001b[0m\n\u001b[0m",
      "\u001b[1;31mNameError\u001b[0m: name 'df_a_out' is not defined"
     ]
    }
   ],
   "source": [
    "df_a_out"
   ]
  },
  {
   "cell_type": "code",
   "execution_count": null,
   "metadata": {},
   "outputs": [],
   "source": [
    "df_a_out.to_csv('apple_processed_data_country_scope.csv')"
   ]
  },
  {
   "cell_type": "code",
   "execution_count": null,
   "metadata": {},
   "outputs": [],
   "source": [
    "df_a_out.a_walking_fit_pear_r.hist()"
   ]
  },
  {
   "cell_type": "code",
   "execution_count": null,
   "metadata": {},
   "outputs": [],
   "source": [
    "metrics_dict_full"
   ]
  },
  {
   "cell_type": "code",
   "execution_count": null,
   "metadata": {},
   "outputs": [],
   "source": [
    " metrics_dict[key]"
   ]
  },
  {
   "cell_type": "code",
   "execution_count": null,
   "metadata": {},
   "outputs": [],
   "source": [
    "metrics_dict_full_zero[key]"
   ]
  },
  {
   "cell_type": "code",
   "execution_count": null,
   "metadata": {},
   "outputs": [],
   "source": [
    "for key in metrics_dict.keys():\n",
    "    print(key)\n",
    "    print(metrics_dict[key])\n",
    "    print(metrics_dict_full[key] == None)\n",
    "    if metrics_dict_full[key] == None:\n",
    "        print('in if')\n",
    "        metrics_dict_full[key] = [metrics_dict[key]]\n",
    "    else:\n",
    "        print('in else')\n",
    "        metrics_dict_full[key] = metrics_dict_full[key].append(metrics_dict[key])"
   ]
  },
  {
   "cell_type": "code",
   "execution_count": null,
   "metadata": {},
   "outputs": [],
   "source": [
    "metrics_dict_full"
   ]
  },
  {
   "cell_type": "code",
   "execution_count": null,
   "metadata": {},
   "outputs": [],
   "source": [
    "[].append('Ar')"
   ]
  },
  {
   "cell_type": "code",
   "execution_count": null,
   "metadata": {},
   "outputs": [],
   "source": [
    "[].append(5)"
   ]
  },
  {
   "cell_type": "code",
   "execution_count": null,
   "metadata": {},
   "outputs": [],
   "source": [
    "metrics_dict"
   ]
  },
  {
   "cell_type": "code",
   "execution_count": null,
   "metadata": {},
   "outputs": [],
   "source": [
    "len(df_tmp.region.unique())"
   ]
  },
  {
   "cell_type": "code",
   "execution_count": null,
   "metadata": {},
   "outputs": [],
   "source": [
    "df_tmp = df_a[df_a.geo_type == 'country/region']\n",
    "#df_tmp = df_a.iloc[[0,1]]\n",
    "df_tmp"
   ]
  },
  {
   "cell_type": "code",
   "execution_count": null,
   "metadata": {},
   "outputs": [],
   "source": [
    "df_a.region.unique()"
   ]
  },
  {
   "cell_type": "code",
   "execution_count": 99,
   "metadata": {},
   "outputs": [],
   "source": [
    "df_grocery = pd.read_csv(\"data/mobility_data/google_data/grocery_and_pharmacy_percent_change_from_baseline_by_country_region.csv\")"
   ]
  },
  {
   "cell_type": "code",
   "execution_count": 105,
   "metadata": {},
   "outputs": [],
   "source": [
    "date_cols_g = [x for x in df_grocery.columns if '2020' in x]\n",
    "date_cols_a = [x for x in df_a.columns if '2020' in x]\n",
    "#date_cols_a, date_cols_g"
   ]
  },
  {
   "cell_type": "code",
   "execution_count": 108,
   "metadata": {},
   "outputs": [
    {
     "data": {
      "text/plain": [
       "[<matplotlib.lines.Line2D at 0x1cfb3dc20c8>]"
      ]
     },
     "execution_count": 108,
     "metadata": {},
     "output_type": "execute_result"
    },
    {
     "data": {
      "image/png": "[encoded data removed]",
      "text/plain": [
       "<Figure size 432x288 with 1 Axes>"
      ]
     },
     "metadata": {
      "needs_background": "light"
     },
     "output_type": "display_data"
    }
   ],
   "source": [
    "df_tmp = df_grocery[df_grocery['country_region'] == 'Israel']\n",
    "plt.plot(df_tmp[date_cols_g].T,'x-')"
   ]
  },
  {
   "cell_type": "code",
   "execution_count": 109,
   "metadata": {},
   "outputs": [
    {
     "data": {
      "text/plain": [
       "['13/01/2020',\n",
       " '14/01/2020',\n",
       " '15/01/2020',\n",
       " '16/01/2020',\n",
       " '17/01/2020',\n",
       " '18/01/2020',\n",
       " '19/01/2020',\n",
       " '20/01/2020',\n",
       " '21/01/2020',\n",
       " '22/01/2020',\n",
       " '23/01/2020',\n",
       " '24/01/2020',\n",
       " '25/01/2020',\n",
       " '26/01/2020',\n",
       " '27/01/2020',\n",
       " '28/01/2020',\n",
       " '29/01/2020',\n",
       " '30/01/2020',\n",
       " '31/01/2020',\n",
       " '01/02/2020',\n",
       " '02/02/2020',\n",
       " '03/02/2020',\n",
       " '04/02/2020',\n",
       " '05/02/2020',\n",
       " '06/02/2020',\n",
       " '07/02/2020',\n",
       " '08/02/2020',\n",
       " '09/02/2020',\n",
       " '10/02/2020',\n",
       " '11/02/2020',\n",
       " '12/02/2020',\n",
       " '13/02/2020',\n",
       " '14/02/2020',\n",
       " '15/02/2020',\n",
       " '16/02/2020',\n",
       " '17/02/2020',\n",
       " '18/02/2020',\n",
       " '19/02/2020',\n",
       " '20/02/2020',\n",
       " '21/02/2020',\n",
       " '22/02/2020',\n",
       " '23/02/2020',\n",
       " '24/02/2020',\n",
       " '25/02/2020',\n",
       " '26/02/2020',\n",
       " '27/02/2020',\n",
       " '28/02/2020',\n",
       " '29/02/2020',\n",
       " '01/03/2020',\n",
       " '02/03/2020',\n",
       " '03/03/2020',\n",
       " '04/03/2020',\n",
       " '05/03/2020',\n",
       " '06/03/2020',\n",
       " '07/03/2020',\n",
       " '08/03/2020',\n",
       " '09/03/2020',\n",
       " '10/03/2020',\n",
       " '11/03/2020',\n",
       " '12/03/2020',\n",
       " '13/03/2020',\n",
       " '14/03/2020',\n",
       " '15/03/2020',\n",
       " '16/03/2020',\n",
       " '17/03/2020',\n",
       " '18/03/2020',\n",
       " '19/03/2020',\n",
       " '20/03/2020',\n",
       " '21/03/2020',\n",
       " '22/03/2020',\n",
       " '23/03/2020',\n",
       " '24/03/2020',\n",
       " '25/03/2020',\n",
       " '26/03/2020',\n",
       " '27/03/2020',\n",
       " '28/03/2020',\n",
       " '29/03/2020',\n",
       " '30/03/2020',\n",
       " '31/03/2020',\n",
       " '01/04/2020',\n",
       " '02/04/2020',\n",
       " '03/04/2020',\n",
       " '04/04/2020',\n",
       " '05/04/2020',\n",
       " '06/04/2020',\n",
       " '07/04/2020',\n",
       " '08/04/2020',\n",
       " '09/04/2020',\n",
       " '10/04/2020',\n",
       " '11/04/2020',\n",
       " '12/04/2020',\n",
       " '13/04/2020',\n",
       " '14/04/2020',\n",
       " '15/04/2020',\n",
       " '16/04/2020',\n",
       " '17/04/2020',\n",
       " '18/04/2020',\n",
       " '19/04/2020',\n",
       " '20/04/2020',\n",
       " '21/04/2020',\n",
       " '22/04/2020',\n",
       " '23/04/2020',\n",
       " '24/04/2020',\n",
       " '25/04/2020',\n",
       " '26/04/2020',\n",
       " '27/04/2020',\n",
       " '28/04/2020',\n",
       " '29/04/2020',\n",
       " '30/04/2020',\n",
       " '01/05/2020',\n",
       " '02/05/2020',\n",
       " '03/05/2020',\n",
       " '04/05/2020',\n",
       " '05/05/2020',\n",
       " '06/05/2020',\n",
       " '07/05/2020',\n",
       " '08/05/2020',\n",
       " '09/05/2020',\n",
       " '10/05/2020']"
      ]
     },
     "execution_count": 109,
     "metadata": {},
     "output_type": "execute_result"
    }
   ],
   "source": [
    "date_cols_a"
   ]
  },
  {
   "cell_type": "code",
   "execution_count": null,
   "metadata": {},
   "outputs": [],
   "source": []
  }
 ],
 "metadata": {
  "kernelspec": {
   "display_name": "Python 3",
   "language": "python",
   "name": "python3"
  },
  "language_info": {
   "codemirror_mode": {
    "name": "ipython",
    "version": 3
   },
   "file_extension": ".py",
   "mimetype": "text/x-python",
   "name": "python",
   "nbconvert_exporter": "python",
   "pygments_lexer": "ipython3",
   "version": "3.7.6"
  },
  "toc-autonumbering": true,
  "toc-showmarkdowntxt": true
 },
 "nbformat": 4,
 "nbformat_minor": 4
}
